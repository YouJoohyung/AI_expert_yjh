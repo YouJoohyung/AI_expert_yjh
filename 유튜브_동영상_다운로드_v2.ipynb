{
  "cells": [
    {
      "cell_type": "markdown",
      "metadata": {},
      "source": [
        "## CLIP git download"
      ]
    },
    {
      "cell_type": "code",
      "execution_count": 1,
      "metadata": {},
      "outputs": [
        {
          "name": "stdout",
          "output_type": "stream",
          "text": [
            "Collecting ftfy\n",
            "  Downloading ftfy-6.1.1-py3-none-any.whl (53 kB)\n",
            "     ---------------------------------------- 53.1/53.1 kB 1.4 MB/s eta 0:00:00\n",
            "Collecting regex\n",
            "  Downloading regex-2023.10.3-cp37-cp37m-win_amd64.whl.metadata (41 kB)\n",
            "     ---------------------------------------- 42.0/42.0 kB 1.0 MB/s eta 0:00:00\n",
            "Requirement already satisfied: tqdm in c:\\users\\pc\\miniconda3\\lib\\site-packages (4.61.2)\n",
            "Requirement already satisfied: wcwidth>=0.2.5 in c:\\users\\pc\\miniconda3\\lib\\site-packages (from ftfy) (0.2.5)\n",
            "Requirement already satisfied: colorama in c:\\users\\pc\\miniconda3\\lib\\site-packages (from tqdm) (0.4.4)\n",
            "Downloading regex-2023.10.3-cp37-cp37m-win_amd64.whl (269 kB)\n",
            "   ---------------------------------------- 269.9/269.9 kB 5.5 MB/s eta 0:00:00\n",
            "Installing collected packages: regex, ftfy\n",
            "Successfully installed ftfy-6.1.1 regex-2023.10.3\n"
          ]
        }
      ],
      "source": [
        "! pip install ftfy regex tqdm"
      ]
    },
    {
      "cell_type": "code",
      "execution_count": 4,
      "metadata": {},
      "outputs": [
        {
          "name": "stderr",
          "output_type": "stream",
          "text": [
            "ERROR: Invalid requirement: \"'git+https://github.com/openai/CLIP.git'\"\n",
            "fatal: destination path 'CLIP' already exists and is not an empty directory.\n"
          ]
        }
      ],
      "source": [
        "!python -m pip install 'git+https://github.com/openai/CLIP.git'\n",
        "!git clone https://github.com/openai/CLIP.git"
      ]
    },
    {
      "cell_type": "markdown",
      "metadata": {},
      "source": [
        "## CLIP git download"
      ]
    },
    {
      "cell_type": "markdown",
      "metadata": {
        "id": "gQBr-CPhT1MQ"
      },
      "source": [
        "## Method 1"
      ]
    },
    {
      "cell_type": "code",
      "execution_count": null,
      "metadata": {
        "id": "Vf_M3msdT1MS"
      },
      "outputs": [],
      "source": [
        "## 일부 영상 다운로드 안됨 -> method3 추천"
      ]
    },
    {
      "cell_type": "code",
      "execution_count": null,
      "metadata": {
        "id": "WmX25ZMKKbCD"
      },
      "outputs": [],
      "source": [
        "!pip install openpyxl\n",
        "!pip install pytube"
      ]
    },
    {
      "cell_type": "code",
      "execution_count": null,
      "metadata": {
        "id": "pWiCP78_g0SH"
      },
      "outputs": [],
      "source": [
        "from pytube import YouTube\n",
        "import openpyxl\n",
        "\n",
        "def extract_hyperlinks(file_path):\n",
        "    hyperlinks = []\n",
        "\n",
        "    # 엑셀 파일 열기\n",
        "    wb = openpyxl.load_workbook(file_path)\n",
        "\n",
        "    # 모든 시트에 대해 하이퍼링크 추출\n",
        "    for sheet in wb.sheetnames:\n",
        "        ws = wb[sheet]\n",
        "            for cell in row:\n",
        "                if cell.hyperlink is not None:\n",
        "                    hyperlinks.append(cell.hyperlink.target)\n",
        "\n",
        "    return hyperlinks\n",
        "\n",
        "# 엑셀 파일 경로\n",
        "excel_file_path = 'F:/교육/AI_Expert_강의/2023년 AI Expert 강의 다시보기.xlsx'\n",
        "\n",
        "# 하이퍼링크 추출\n",
        "hyperlinks = extract_hyperlinks(excel_file_path)\n",
        "\n",
        "# 추출된 하이퍼링크 출력\n",
        "# for link in hyperlinks:\n",
        "#     print(link)\n",
        "\n",
        "for video_url in hyperlinks:\n",
        "    # YouTube 객체를 생성합니다.\n",
        "    yt = YouTube(video_url)\n",
        "\n",
        "    # 가장 높은 화질의 스트림을 선택합니다.\n",
        "    stream = yt.streams.get_highest_resolution()\n",
        "\n",
        "    # 동영상을 다운로드합니다.\n",
        "    stream.download()\n",
        "\n",
        "    print(f'{yt.title} 동영상 다운로드 완료!')\n",
        "\n",
        "print('모든 동영상 다운로드 완료!')"
      ]
    },
    {
      "cell_type": "markdown",
      "metadata": {
        "id": "8zrFG4xTKV5e"
      },
      "source": [
        "## Method 2"
      ]
    },
    {
      "cell_type": "code",
      "execution_count": null,
      "metadata": {
        "id": "2YS258uuJ0cT"
      },
      "outputs": [],
      "source": [
        "!pip install openpyxl\n",
        "!pip install pytube"
      ]
    },
    {
      "cell_type": "code",
      "execution_count": null,
      "metadata": {
        "id": "WneoPBuCJ6Qf"
      },
      "outputs": [],
      "source": [
        "from pytube import YouTube\n",
        "import openpyxl\n",
        "\n",
        "def extract_hyperlinks(file_path):\n",
        "    hyperlinks = []\n",
        "\n",
        "    # 엑셀 파일 열기\n",
        "    wb = openpyxl.load_workbook(file_path)\n",
        "\n",
        "    # 모든 시트에 대해 하이퍼링크 추출\n",
        "    for sheet in wb.sheetnames:\n",
        "        ws = wb[sheet]\n",
        "        for row in ws.iter_rows():\n",
        "            for cell in row:\n",
        "                if cell.hyperlink is not None:\n",
        "                    hyperlinks.append(cell.hyperlink.target)\n",
        "\n",
        "    return hyperlinks\n",
        "\n",
        "# 엑셀 파일 경로\n",
        "excel_file_path = 'C:/Users/삼성/Downloads/00_AI_expert/000_강의영상/2023년 AI Expert 강의 다시보기.xlsx'\n",
        "# excel_file_path = 'F:\\교육\\AI_Expert/000_강의영상/2023년 AI Expert 강의 다시보기_원본.xlsx'\n",
        "\n",
        "# 하이퍼링크 추출\n",
        "hyperlinks = extract_hyperlinks(excel_file_path)"
      ]
    },
    {
      "cell_type": "code",
      "execution_count": null,
      "metadata": {
        "id": "nlDYiUonJ8nA",
        "outputId": "88784e17-9f43-4e54-ffdd-77ca08f9a67e"
      },
      "outputs": [
        {
          "name": "stdout",
          "output_type": "stream",
          "text": [
            "영상:  176 \n",
            " ['https://youtu.be/f5EKmp1d42k', 'https://youtu.be/IztoM_8GfhM', 'https://youtu.be/IO7lQbWOq2g', 'https://youtu.be/5Ep_wtvlHJ4', 'https://youtu.be/xfgJzWqV6zo', 'https://youtu.be/KzQpmFqX1Dc', 'https://youtu.be/htGayaUPcU8', 'https://youtu.be/MRGN0jlLPfI', 'https://youtu.be/gZ_RsUtitRw', 'https://youtu.be/NCAqlg1SIqY', 'https://youtu.be/5ng62nM_sDs', 'https://youtu.be/Pz0_zdc9MgY', 'https://youtu.be/OnIzkk7L-is', 'https://youtu.be/gBbmYZqeGCg', 'https://youtu.be/zu-O7lbk_q0', 'https://youtu.be/-JwuEpYRBc0', 'https://youtu.be/WJyO1c8oMQo', 'https://youtu.be/AHcqnSGQprk', 'https://youtu.be/VRgxSQV4Xp8', 'https://youtu.be/RrgB_Xq-QrU', 'https://youtu.be/FJ4FaXDmmCw', 'https://youtu.be/4l5HTQ7NUHM', 'https://youtu.be/mCju7lUj2rs', 'https://youtu.be/R98F965Hs0c', 'https://youtu.be/gXeTb0PQ2Dk', 'https://youtu.be/9m2tgy1BOKU', 'https://youtu.be/2ltRWsiDtUQ', 'https://youtu.be/QkqIv8P4iGo', 'https://youtu.be/K3Hwd3z5N0w', 'https://youtu.be/bMi-x4Lqob0', 'https://youtu.be/CWviY6ZGWRI', 'https://youtu.be/0bgm8AR9BI8', 'https://youtu.be/SpZXrlirgfE', 'https://youtu.be/ilZGkQ2ZHfU', 'https://youtu.be/eWhQ507uBIQ', 'https://youtu.be/xEjAUX-RKxw', 'https://youtu.be/v2VtQnj4Clw', 'https://youtu.be/EiyGGJN-VWM', 'https://youtu.be/U_xaU_bgp3Q', 'https://youtu.be/QjtEIsg9SYc', 'https://youtu.be/HYWBbcGqgyo', 'https://youtu.be/TcRE4Qyfg6w', 'https://youtu.be/f-mr-Xm4VYg', 'https://youtu.be/QSXL8BSLkTw', 'https://youtu.be/_KjXm8C_N4E', 'https://youtu.be/vIx4aZWvmOo', 'https://youtu.be/JphJ8pcmwN0', 'https://youtu.be/tiNnPjkB6zA', 'https://youtu.be/g414a3UJUOQ', 'https://youtu.be/BkKQYlrt2Ic', 'https://youtu.be/K1aKbXA8dSU', 'https://youtu.be/mwXtSBP9ypw', 'https://youtu.be/hjeZS8WFMes', 'https://youtu.be/ofMH57rvQDo', 'https://youtu.be/4Q0D6h5Mtbc', 'https://youtu.be/Rmda3rE4qr4', 'https://youtu.be/_sQrSccYvXM', 'https://youtu.be/992KoL3TROU', 'https://youtu.be/CPKFRtwsRT8', 'https://youtu.be/BLlBR30-a78', 'https://youtu.be/iZUXHSCWzDs', 'https://youtu.be/IC5yyYEoD10', 'https://youtu.be/yigw8F-0BoA', 'https://youtu.be/HdC-8Sd1eiE', 'https://youtu.be/-XbjzI0E9KA', 'https://youtu.be/moraY9KXIKA', 'https://youtu.be/uXQn-5yniKc', 'https://youtu.be/D_laYkiUWY8', 'https://youtu.be/6OpIojdjyYo', 'https://youtu.be/7jm5wi61ldU', 'https://youtu.be/QjFrwOdPbN0', 'https://youtu.be/CTDrUSbEmgw', 'https://youtu.be/ySL0XOFHBKc', 'https://youtu.be/sAGAZxNskRg', 'https://youtu.be/npWycbBOgXI', 'https://youtu.be/X5srJGeSCmY', 'https://youtu.be/TTBnB47MGtY', 'https://youtu.be/QGk1ZLDB9RM', 'https://youtu.be/EXTZ0NwtF9U', 'https://youtu.be/JruSPGQ2MG0', 'https://youtu.be/gfE9-Fam5OY', 'https://youtu.be/J5nRMPfo6Mk', 'https://youtu.be/0x_m_jpPAsw', 'https://youtu.be/lUkx_jqOeLA', 'https://youtu.be/FOz1hj9koXk', 'https://youtu.be/wh-uinCvMvc', 'https://youtu.be/wFn6xzeCRrg', 'https://youtu.be/oF6uIrwFzCg', 'https://youtu.be/hmQfnjfQMAU', 'https://youtu.be/hwP6MBQM8uQ', 'https://youtu.be/hHZSbRp_M5Y', 'https://youtu.be/nRsEC29DMNs', 'https://youtu.be/FgS3lN-Z8-w', 'https://youtu.be/XaE2xAJsAG4', 'https://youtu.be/5bhvY5qcyms', 'https://youtu.be/JJUmcDzqBE4', 'https://youtu.be/X5uiDC-jG3k', 'https://youtu.be/OCkMKkV07Bk', 'https://youtu.be/1_7UYiOUV7I', 'https://youtu.be/Sil9F_-jW-w', 'https://youtu.be/uBKqnVXnl8k', 'https://youtu.be/nHBS2XdP0Wo', 'https://youtu.be/Ws9dgstsOms', 'https://youtu.be/Ac4E1DKhiN0', 'https://youtu.be/OomPG2llp1I', 'https://youtu.be/fn2YfOIluzg', 'https://youtu.be/qdYKAAEoFrs', 'https://youtu.be/3KtY37MSI0s', 'https://youtu.be/c4GyRE9hjTE', 'https://youtu.be/r1d5nMMgQ9E', 'https://youtu.be/BC5DfmpM1hU', 'https://youtu.be/S1vIzVG5i9g', 'https://youtu.be/2BOAmxWnipE', 'https://youtu.be/HqlltfHxEWI', 'https://youtu.be/byMK6cn3nl0', 'https://youtu.be/gS2W-Vtny04', 'https://youtu.be/AXbS0iJtrwg', 'https://youtu.be/4pgoZLoh3qE', 'https://youtu.be/QO0k4EE06T8', 'https://youtu.be/NaNOkubKda0', 'https://youtu.be/VuLZBsAzqRE', 'https://youtu.be/DRiCrTa_W9s', 'https://youtu.be/6qmeBvfIrhM', 'https://youtu.be/thYDrTZDykw', 'https://youtu.be/7lIHfWYsm3U', 'https://youtu.be/ONovS6drhz4', 'https://youtu.be/HCQI-W5Ot4c', 'https://youtu.be/aK95IFhexmg', 'https://youtu.be/JSqX7iCSIEU', 'https://youtu.be/noKlsiPuHpU', 'https://youtu.be/5JQhykIYKyk', 'https://youtu.be/J5N19vORErw', 'https://youtu.be/xnshc_ThmtM', 'https://youtu.be/RZYHZZ8RYdI', 'https://youtu.be/j7hUoKxY-Ns', 'https://youtu.be/yWsnSB2Id10', 'https://youtu.be/Xcv3BBcQ-V4', 'https://youtu.be/GAyddTJLVz4', 'https://youtu.be/z2GbvlojsoU', 'https://youtu.be/pj5DVBqnsjY', 'https://youtu.be/gOyQthSOC2g', 'https://youtu.be/S_EZDwf80s0', 'https://youtu.be/SQco1oEjtwA', 'https://youtu.be/eGl95BW0Rz0', 'https://youtu.be/oPtnA75HuqI', 'https://youtu.be/OjraVvrpQco', 'https://youtu.be/Jt4XzBX996E', 'https://youtu.be/4nDldV6JhxQ', 'https://youtu.be/gMi7DDXSk6w', 'https://youtu.be/dVNnrrVdFOU', 'https://youtu.be/7Om4tbylH2Q', 'https://youtu.be/Dj4PNyTEYJs', 'https://youtu.be/oJ08dNpGq3k', 'https://youtu.be/IE97mesoGd4', 'https://youtu.be/7S-dF8xShX4', 'https://youtu.be/Z2WC4jr6Urg', 'https://youtu.be/sScsyMv2r4o', 'https://youtu.be/e1AhIcbQwKY', 'https://youtu.be/_RJkLsm_040', 'https://youtu.be/a4WB3ePdpnM', 'https://youtu.be/IiUOR3AVubc', 'https://youtu.be/CDtT586TPKY', 'https://youtu.be/zHqSQD53Y3w', 'https://youtu.be/QdIDi1Aaejw', 'https://youtu.be/aEkoDVY7mdM', 'https://youtu.be/dmxB5ioiOr4', 'https://youtu.be/HOwaXwSNj0U', 'https://youtu.be/0-eUsH-vp7A', 'https://youtu.be/Lu0qeJxds2k', 'https://youtu.be/q2xoqz5DcAM', 'https://youtu.be/1S8q8KQ2ap8', 'https://youtu.be/FZx8si4oxM8', 'https://youtu.be/hOpr0Lhv4oI', 'https://youtu.be/Z59YffSAV0o', 'https://youtu.be/gHdKmMb_sAM', 'https://youtu.be/p5QJcqXyhCk']\n"
          ]
        }
      ],
      "source": [
        "# 영상 체크\n",
        "print(\"영상: \", len(hyperlinks), \"\\n\", hyperlinks)"
      ]
    },
    {
      "cell_type": "code",
      "execution_count": null,
      "metadata": {
        "id": "3ujTnPGyJRR5"
      },
      "outputs": [],
      "source": [
        "from time import sleep\n",
        "\n",
        "max_retries = 5  # 최대 재시도 횟수를 정의합니다\n",
        "\n",
        "for video_url in hyperlinks:\n",
        "    retries = 0\n",
        "    while retries <= max_retries:\n",
        "        try:\n",
        "            # YouTube 객체를 생성합니다\n",
        "            yt = YouTube(video_url)\n",
        "\n",
        "            # 가장 높은 화질의 스트림을 선택합니다\n",
        "            stream = yt.streams.get_highest_resolution()\n",
        "\n",
        "            # 동영상을 다운로드합니다 (10초 타임아웃을 고려)\n",
        "            stream.download(timeout=10)\n",
        "\n",
        "            print(f'{yt.title} 동영상 다운로드 완료!')\n",
        "            break  # 다운로드가 성공하면 루프를 종료합니다\n",
        "        except Exception as e:\n",
        "            retries += 1\n",
        "            print(f\"{yt.title} 다운로드 실패, {retries}번째 시도 실패, 이유: {e}. 재시도...\")\n",
        "            sleep(5)  # 재시도하기 전에 5초 동안 대기합니다\n",
        "\n",
        "print(\"모든 동영상 다운로드 완료!\")"
      ]
    },
    {
      "cell_type": "markdown",
      "metadata": {
        "id": "wnbddFMzT1MW"
      },
      "source": [
        "## Method 3"
      ]
    },
    {
      "cell_type": "code",
      "execution_count": null,
      "metadata": {
        "id": "Fcl-XdbuT1MW"
      },
      "outputs": [],
      "source": [
        "!pip install openpyxl\n",
        "!pip install pytube"
      ]
    },
    {
      "cell_type": "code",
      "execution_count": null,
      "metadata": {
        "id": "DGyXvz9UT1MX"
      },
      "outputs": [],
      "source": [
        "from pytube import YouTube\n",
        "import openpyxl\n",
        "\n",
        "def extract_hyperlinks(file_path):\n",
        "    hyperlinks = []\n",
        "\n",
        "    # 엑셀 파일 열기\n",
        "    wb = openpyxl.load_workbook(file_path)\n",
        "\n",
        "    # 모든 시트에 대해 하이퍼링크 추출\n",
        "    for sheet in wb.sheetnames:\n",
        "        ws = wb[sheet]\n",
        "        for row in ws.iter_rows():\n",
        "            for cell in row:\n",
        "                if cell.hyperlink is not None:\n",
        "                    hyperlinks.append(cell.hyperlink.target)\n",
        "\n",
        "    return hyperlinks\n",
        "\n",
        "# 엑셀 파일 경로\n",
        "excel_file_path = 'C:/Users/삼성/Downloads/00_AI_expert/000_강의영상/2023년 AI Expert 강의 다시보기.xlsx'\n",
        "\n",
        "# 하이퍼링크 추출\n",
        "hyperlinks = extract_hyperlinks(excel_file_path)"
      ]
    },
    {
      "cell_type": "code",
      "execution_count": null,
      "metadata": {
        "id": "NRHGXqMZT1MX"
      },
      "outputs": [],
      "source": [
        "# 영상 체크\n",
        "print(\"영상: \", len(hyperlinks), \"\\n\", hyperlinks)\n",
        "\n",
        "# # 영상 제목& URL 출력\n",
        "# i = 1\n",
        "# for video_url in hyperlinks:\n",
        "#     print(i, YouTube(video_url).title, video_url, \"\\n\")\n",
        "#     i += 1"
      ]
    },
    {
      "cell_type": "code",
      "execution_count": null,
      "metadata": {
        "id": "BQz_zryOT1MX"
      },
      "outputs": [],
      "source": [
        "from time import sleep\n",
        "import requests\n",
        "\n",
        "max_retries = 5\n",
        "\n",
        "def download_with_chunk(url, filename):\n",
        "    with requests.get(url, stream=True) as r:\n",
        "        with open(filename, 'wb') as f:\n",
        "            for chunk in r.iter_content(chunk_size=608192):  # 영상 크기에 따라 청크 크기 조정\n",
        "                f.write(chunk)\n",
        "\n",
        "for video_url in hyperlinks:\n",
        "    retries = 0\n",
        "    while retries <= max_retries:\n",
        "        try:\n",
        "            yt = YouTube(video_url)\n",
        "            stream = yt.streams.get_highest_resolution()\n",
        "            download_url = stream.url\n",
        "\n",
        "            download_with_chunk(download_url, f\"{yt.title}.mp4\")\n",
        "\n",
        "            print(f'{yt.title} 동영상 다운로드 완료!')\n",
        "            break\n",
        "        except Exception as e:\n",
        "            retries += 1\n",
        "            print(f\"{yt.title} 다운로드 실패, {retries}번째 시도 실패, 이유: {e}. 재시도...\")\n",
        "            sleep(5)\n",
        "\n",
        "print(\"모든 동영상 다운로드 완료!\")"
      ]
    }
  ],
  "metadata": {
    "colab": {
      "provenance": [],
      "toc_visible": true
    },
    "kernelspec": {
      "display_name": "Python 3",
      "name": "python3"
    },
    "language_info": {
      "codemirror_mode": {
        "name": "ipython",
        "version": 3
      },
      "file_extension": ".py",
      "mimetype": "text/x-python",
      "name": "python",
      "nbconvert_exporter": "python",
      "pygments_lexer": "ipython3",
      "version": "3.9.10"
    }
  },
  "nbformat": 4,
  "nbformat_minor": 0
}
